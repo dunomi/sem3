{
  "nbformat": 4,
  "nbformat_minor": 0,
  "metadata": {
    "colab": {
      "name": "3_Połom_Kosiński.ipynb",
      "provenance": [],
      "authorship_tag": "ABX9TyNUxzTmf+mkOZ4yDTwDNeka",
      "include_colab_link": true
    },
    "kernelspec": {
      "name": "python3",
      "display_name": "Python 3"
    }
  },
  "cells": [
    {
      "cell_type": "markdown",
      "metadata": {
        "id": "view-in-github",
        "colab_type": "text"
      },
      "source": [
        "<a href=\"https://colab.research.google.com/github/dunomi/sem3/blob/main/3_Po%C5%82om_Kosi%C5%84ski.ipynb\" target=\"_parent\"><img src=\"https://colab.research.google.com/assets/colab-badge.svg\" alt=\"Open In Colab\"/></a>"
      ]
    },
    {
      "cell_type": "markdown",
      "metadata": {
        "id": "YFsgcwXL3gTR"
      },
      "source": [
        "Program 3\n",
        "\n",
        "Przedmiot: Metody nieliniowej analizy danych 2020/21\n",
        "\n",
        "Autorzy: Eryk Kosiński, Michał Połom"
      ]
    },
    {
      "cell_type": "markdown",
      "metadata": {
        "id": "ICYvZLYA318w"
      },
      "source": [
        "Definiowanie funckji"
      ]
    },
    {
      "cell_type": "code",
      "metadata": {
        "id": "zU43i7Uw3jcG"
      },
      "source": [
        "def a(n): return (-1/2)**n\n",
        "def b(n): return (1/3*complex(0,1))**n\n",
        "\n",
        "#Do liczenia sum / Do sprawdzenia czy należy do Hilberta\n",
        "def suma(func,n):\n",
        "    suma=0\n",
        "    for i in range(1,n+1):\n",
        "        suma=suma+abs(func(i))**2\n",
        "    return suma\n",
        "\n",
        "def print_sumy(func):\n",
        "    for i in (1,5,10,50,100,1000,10000):\n",
        "        print(\"Funkcja: {}, n={}, suma={}\".format(func.__name__,i,suma(func,i)))\n",
        "\n",
        "#Do normy\n",
        "def normaL2(func,n):\n",
        "    suma=0\n",
        "    for i in range(n):\n",
        "        suma=suma+abs(func(i))**2\n",
        "    return suma**(1/2)\n",
        "\n",
        "#Do iloczynu skalarnego\n",
        "def A_sprzB(n): return (-1/2)**n * (-(1/3)**n * complex(0,1)**n)\n",
        "\n",
        "def iloczyn_skalarny(func,n):\n",
        "    suma=0\n",
        "    for i in range(1,n+1):\n",
        "        suma=suma+func(i)\n",
        "    return suma\n"
      ],
      "execution_count": 30,
      "outputs": []
    },
    {
      "cell_type": "code",
      "metadata": {
        "id": "7XiItYcf34Pw",
        "outputId": "5249f2cb-e1a7-407d-e59e-d9550072bb96",
        "colab": {
          "base_uri": "https://localhost:8080/"
        }
      },
      "source": [
        "print_sumy(a)\n",
        "print_sumy(b)"
      ],
      "execution_count": 31,
      "outputs": [
        {
          "output_type": "stream",
          "text": [
            "Funkcja: a, n=1, suma=0.25\n",
            "Funkcja: a, n=5, suma=0.3330078125\n",
            "Funkcja: a, n=10, suma=0.33333301544189453\n",
            "Funkcja: a, n=50, suma=0.3333333333333333\n",
            "Funkcja: a, n=100, suma=0.3333333333333333\n",
            "Funkcja: a, n=1000, suma=0.3333333333333333\n",
            "Funkcja: a, n=10000, suma=0.3333333333333333\n",
            "Funkcja: b, n=1, suma=0.1111111111111111\n",
            "Funkcja: b, n=5, suma=0.12499788311402395\n",
            "Funkcja: b, n=10, suma=0.12499999996415036\n",
            "Funkcja: b, n=50, suma=0.125\n",
            "Funkcja: b, n=100, suma=0.125\n",
            "Funkcja: b, n=1000, suma=0.125\n",
            "Funkcja: b, n=10000, suma=0.125\n"
          ],
          "name": "stdout"
        }
      ]
    },
    {
      "cell_type": "code",
      "metadata": {
        "id": "3MRMgTvf36dz",
        "outputId": "6cd52cbc-9791-4532-a7bf-f5b6f97eacc4",
        "colab": {
          "base_uri": "https://localhost:8080/"
        }
      },
      "source": [
        "\n",
        "n=11\n",
        "suma_a = suma(a, n)\n",
        "suma_poprzednia = normaL2(a, n - 10)\n",
        "while abs(suma_a-suma_poprzednia) !=0:\n",
        "    suma_a=suma(a,n)\n",
        "    suma_poprzednia=suma(a,n-100)\n",
        "    n = n+10\n",
        "    if n > 10000:\n",
        "        suma_a=\"SUMA NIESKOŃCZONA\"\n",
        "        break\n",
        "\n",
        "n=11\n",
        "suma_b = suma(b, n)\n",
        "suma_poprzednia = normaL2(b, n - 10)\n",
        "while abs(suma_b-suma_poprzednia) !=0:\n",
        "    suma_b=suma(b,n)\n",
        "    suma_poprzednia=suma(b,n-100)\n",
        "    n = n+10\n",
        "    if n > 10000:\n",
        "        suma_b=\"SUMA NIESKOŃCZONA\"\n",
        "        break\n",
        "\n",
        "print(\"Suma funkcji |a|^2 jest równa \",suma_a)\n",
        "print(\"Suma funkcji |b|^2 jest równa \",suma_b)"
      ],
      "execution_count": 32,
      "outputs": [
        {
          "output_type": "stream",
          "text": [
            "Suma funkcji |a|^2 jest równa  0.3333333333333333\n",
            "Suma funkcji |b|^2 jest równa  0.125\n"
          ],
          "name": "stdout"
        }
      ]
    },
    {
      "cell_type": "code",
      "metadata": {
        "id": "_quEOuJj4DKP",
        "outputId": "83bc7c39-046c-4b47-c0e5-957490bb90fa",
        "colab": {
          "base_uri": "https://localhost:8080/"
        }
      },
      "source": [
        "#normy\n",
        "\n",
        "n=11\n",
        "norma_a = normaL2(a, n)\n",
        "norma_poprzednia = normaL2(a, n - 10)\n",
        "while abs(norma_a-norma_poprzednia) !=0:\n",
        "    norma_a=normaL2(a,n)\n",
        "    norma_poprzednia=normaL2(a,n-100)\n",
        "    n = n+10\n",
        "    if n > 10000:\n",
        "        norma_a = \"Błąd\" \n",
        "        break\n",
        "\n",
        "n=11\n",
        "norma_b = normaL2(b, n)\n",
        "norma_poprzednia = normaL2(b, n - 10)\n",
        "while abs(norma_b-norma_poprzednia) !=0:\n",
        "    norma_b=normaL2(b,n)\n",
        "    norma_poprzednia=normaL2(b,n-10)\n",
        "    n = n+10\n",
        "    if n > 10000:\n",
        "        norma_b = \"Błąd\"\n",
        "        break\n",
        "\n",
        "print(\"Norma funkcji a jest równa \",norma_a)\n",
        "print(\"Norma funkcji b jest równa \",norma_b)"
      ],
      "execution_count": 33,
      "outputs": [
        {
          "output_type": "stream",
          "text": [
            "Norma funkcji a jest równa  1.1547005383792515\n",
            "Norma funkcji b jest równa  1.0606601717798212\n"
          ],
          "name": "stdout"
        }
      ]
    },
    {
      "cell_type": "code",
      "metadata": {
        "id": "GK1F4y_z4JsB",
        "outputId": "6a55bf46-56eb-4075-88d7-507428e944a4",
        "colab": {
          "base_uri": "https://localhost:8080/"
        }
      },
      "source": [
        "#iloczyn salarny\n",
        "print(\"iloczyn skalarny = \", suma(A_sprzB,1000))"
      ],
      "execution_count": 34,
      "outputs": [
        {
          "output_type": "stream",
          "text": [
            "iloczyn skalarny =  0.028571428571428567\n"
          ],
          "name": "stdout"
        }
      ]
    }
  ]
}