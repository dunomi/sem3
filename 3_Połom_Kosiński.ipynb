{
  "nbformat": 4,
  "nbformat_minor": 0,
  "metadata": {
    "colab": {
      "name": "3_Połom_Kosiński.ipynb",
      "provenance": [],
      "authorship_tag": "ABX9TyNBtDAXqakXVTLDDC4X5Ke3",
      "include_colab_link": true
    },
    "kernelspec": {
      "name": "python3",
      "display_name": "Python 3"
    }
  },
  "cells": [
    {
      "cell_type": "markdown",
      "metadata": {
        "id": "view-in-github",
        "colab_type": "text"
      },
      "source": [
        "<a href=\"https://colab.research.google.com/github/dunomi/sem3/blob/main/3_Po%C5%82om_Kosi%C5%84ski.ipynb\" target=\"_parent\"><img src=\"https://colab.research.google.com/assets/colab-badge.svg\" alt=\"Open In Colab\"/></a>"
      ]
    },
    {
      "cell_type": "markdown",
      "metadata": {
        "id": "YFsgcwXL3gTR"
      },
      "source": [
        "Program 3\n",
        "\n",
        "Przedmiot: Metody nieliniowej analizy danych 2020/21\n",
        "\n",
        "Autorzy: Eryk Kosiński, Michał Połom"
      ]
    },
    {
      "cell_type": "markdown",
      "metadata": {
        "id": "l_jgZpOHAL_z"
      },
      "source": [
        "Funckje podnoszące liczbę do kwadratu oraz liczące moduł"
      ]
    },
    {
      "cell_type": "code",
      "metadata": {
        "id": "FSeJ8CARALLA"
      },
      "source": [
        "def potegowanie(liczba,potega):\n",
        "  if isinstance(1,int) and potega<0:\n",
        "    pot=1/liczba\n",
        "    liczba=1/liczba\n",
        "    potega=potega*(-1)\n",
        "  elif isinstance(1,int) and potega>0:\n",
        "    pot=liczba\n",
        "  else:\n",
        "    return \"błąd\"\n",
        "  for i in range(1,potega):\n",
        "    pot=pot*liczba\n",
        "  return pot\n",
        "\n",
        "def modul(liczba):\n",
        "  if (isinstance(liczba,float) or isinstance(liczba, int) or isinstance(liczba, complex)) and liczba<=0:\n",
        "    return liczba*(-1)\n",
        "  elif (isinstance(liczba,float) or isinstance(liczba, int) or isinstance(liczba, complex)) and liczba>0: \n",
        "    return liczba\n",
        "  else:\n",
        "    return \"błąd\""
      ],
      "execution_count": 65,
      "outputs": []
    },
    {
      "cell_type": "code",
      "metadata": {
        "id": "n6GyqlDjA49I",
        "outputId": "32263fbe-075d-4baf-de01-ca34152d7571",
        "colab": {
          "base_uri": "https://localhost:8080/"
        }
      },
      "source": [
        "potegowanie(-1/2,10)"
      ],
      "execution_count": 70,
      "outputs": [
        {
          "output_type": "execute_result",
          "data": {
            "text/plain": [
              "0.0009765625"
            ]
          },
          "metadata": {
            "tags": []
          },
          "execution_count": 70
        }
      ]
    },
    {
      "cell_type": "markdown",
      "metadata": {
        "id": "ICYvZLYA318w"
      },
      "source": [
        "Definiowanie funckji"
      ]
    },
    {
      "cell_type": "code",
      "metadata": {
        "id": "zU43i7Uw3jcG"
      },
      "source": [
        "def a(n): return potegowanie(-1/2,n)\n",
        "def b(n): return potegowanie(1/3*complex(0,1),n)\n",
        "\n",
        "#Do liczenia sum / Do sprawdzenia czy należy do Hilberta\n",
        "def suma(func,n):\n",
        "    suma=0\n",
        "    for i in range(1,n+1):\n",
        "        suma=suma+potegowanie(modul(func(i)),2)\n",
        "    return suma\n",
        "\n",
        "def print_sumy(func):\n",
        "    for i in (1,5,10,50,100,1000,10000):\n",
        "        print(\"Funkcja: {}, n={}, suma={}\".format(func.__name__,i,suma(func,i)))\n",
        "\n",
        "#Do normy\n",
        "def normaL2(func,n):\n",
        "    suma=0\n",
        "    for i in range(1,n):\n",
        "        suma=suma+potegowanie(modul(func(i)),2)\n",
        "    return suma**(1/2)\n",
        "\n",
        "#Do iloczynu skalarnego\n",
        "def A_sprzB(n): \n",
        "  #return potegowanie(-1/2,n) * potegowanie(-complex(0,1)/3,n) #przed przekształceniem\n",
        "  return potegowanie(complex(0,1)/6,n) #po przekształceniu\n",
        "\n",
        "def iloczyn_skalarny(func,n):\n",
        "    suma=0\n",
        "    for i in range(1,n+1):\n",
        "        suma=suma+func(i)\n",
        "    return suma\n"
      ],
      "execution_count": 83,
      "outputs": []
    },
    {
      "cell_type": "markdown",
      "metadata": {
        "id": "SUsisMsj-6T1"
      },
      "source": [
        "Obliczenie kilku sum dla różnych n. Tutaj jak i dalej wykorzystano metode liczenia kolejnych sum, a nie wykorzystano wzorów na sume szeregu geometrycznego."
      ]
    },
    {
      "cell_type": "code",
      "metadata": {
        "id": "7XiItYcf34Pw",
        "outputId": "4fcc2252-a38b-4546-ab75-fb87c3dd00fe",
        "colab": {
          "base_uri": "https://localhost:8080/",
          "height": 458
        }
      },
      "source": [
        "print_sumy(a)\n",
        "print_sumy(b)"
      ],
      "execution_count": 85,
      "outputs": [
        {
          "output_type": "stream",
          "text": [
            "Funkcja: a, n=1, suma=0.25\n",
            "Funkcja: a, n=5, suma=0.3330078125\n",
            "Funkcja: a, n=10, suma=0.33333301544189453\n",
            "Funkcja: a, n=50, suma=0.3333333333333333\n",
            "Funkcja: a, n=100, suma=0.3333333333333333\n",
            "Funkcja: a, n=1000, suma=0.3333333333333333\n",
            "Funkcja: a, n=10000, suma=0.3333333333333333\n"
          ],
          "name": "stdout"
        },
        {
          "output_type": "error",
          "ename": "TypeError",
          "evalue": "ignored",
          "traceback": [
            "\u001b[0;31m---------------------------------------------------------------------------\u001b[0m",
            "\u001b[0;31mTypeError\u001b[0m                                 Traceback (most recent call last)",
            "\u001b[0;32m<ipython-input-85-da106f7fe9a8>\u001b[0m in \u001b[0;36m<module>\u001b[0;34m()\u001b[0m\n\u001b[1;32m      1\u001b[0m \u001b[0mprint_sumy\u001b[0m\u001b[0;34m(\u001b[0m\u001b[0ma\u001b[0m\u001b[0;34m)\u001b[0m\u001b[0;34m\u001b[0m\u001b[0;34m\u001b[0m\u001b[0m\n\u001b[0;32m----> 2\u001b[0;31m \u001b[0mprint_sumy\u001b[0m\u001b[0;34m(\u001b[0m\u001b[0mb\u001b[0m\u001b[0;34m)\u001b[0m\u001b[0;34m\u001b[0m\u001b[0;34m\u001b[0m\u001b[0m\n\u001b[0m",
            "\u001b[0;32m<ipython-input-83-bf2cd41fc0ed>\u001b[0m in \u001b[0;36mprint_sumy\u001b[0;34m(func)\u001b[0m\n\u001b[1;32m     11\u001b[0m \u001b[0;32mdef\u001b[0m \u001b[0mprint_sumy\u001b[0m\u001b[0;34m(\u001b[0m\u001b[0mfunc\u001b[0m\u001b[0;34m)\u001b[0m\u001b[0;34m:\u001b[0m\u001b[0;34m\u001b[0m\u001b[0;34m\u001b[0m\u001b[0m\n\u001b[1;32m     12\u001b[0m     \u001b[0;32mfor\u001b[0m \u001b[0mi\u001b[0m \u001b[0;32min\u001b[0m \u001b[0;34m(\u001b[0m\u001b[0;36m1\u001b[0m\u001b[0;34m,\u001b[0m\u001b[0;36m5\u001b[0m\u001b[0;34m,\u001b[0m\u001b[0;36m10\u001b[0m\u001b[0;34m,\u001b[0m\u001b[0;36m50\u001b[0m\u001b[0;34m,\u001b[0m\u001b[0;36m100\u001b[0m\u001b[0;34m,\u001b[0m\u001b[0;36m1000\u001b[0m\u001b[0;34m,\u001b[0m\u001b[0;36m10000\u001b[0m\u001b[0;34m)\u001b[0m\u001b[0;34m:\u001b[0m\u001b[0;34m\u001b[0m\u001b[0;34m\u001b[0m\u001b[0m\n\u001b[0;32m---> 13\u001b[0;31m         \u001b[0mprint\u001b[0m\u001b[0;34m(\u001b[0m\u001b[0;34m\"Funkcja: {}, n={}, suma={}\"\u001b[0m\u001b[0;34m.\u001b[0m\u001b[0mformat\u001b[0m\u001b[0;34m(\u001b[0m\u001b[0mfunc\u001b[0m\u001b[0;34m.\u001b[0m\u001b[0m__name__\u001b[0m\u001b[0;34m,\u001b[0m\u001b[0mi\u001b[0m\u001b[0;34m,\u001b[0m\u001b[0msuma\u001b[0m\u001b[0;34m(\u001b[0m\u001b[0mfunc\u001b[0m\u001b[0;34m,\u001b[0m\u001b[0mi\u001b[0m\u001b[0;34m)\u001b[0m\u001b[0;34m)\u001b[0m\u001b[0;34m)\u001b[0m\u001b[0;34m\u001b[0m\u001b[0;34m\u001b[0m\u001b[0m\n\u001b[0m\u001b[1;32m     14\u001b[0m \u001b[0;34m\u001b[0m\u001b[0m\n\u001b[1;32m     15\u001b[0m \u001b[0;31m#Do normy\u001b[0m\u001b[0;34m\u001b[0m\u001b[0;34m\u001b[0m\u001b[0;34m\u001b[0m\u001b[0m\n",
            "\u001b[0;32m<ipython-input-83-bf2cd41fc0ed>\u001b[0m in \u001b[0;36msuma\u001b[0;34m(func, n)\u001b[0m\n\u001b[1;32m      6\u001b[0m     \u001b[0msuma\u001b[0m\u001b[0;34m=\u001b[0m\u001b[0;36m0\u001b[0m\u001b[0;34m\u001b[0m\u001b[0;34m\u001b[0m\u001b[0m\n\u001b[1;32m      7\u001b[0m     \u001b[0;32mfor\u001b[0m \u001b[0mi\u001b[0m \u001b[0;32min\u001b[0m \u001b[0mrange\u001b[0m\u001b[0;34m(\u001b[0m\u001b[0;36m1\u001b[0m\u001b[0;34m,\u001b[0m\u001b[0mn\u001b[0m\u001b[0;34m+\u001b[0m\u001b[0;36m1\u001b[0m\u001b[0;34m)\u001b[0m\u001b[0;34m:\u001b[0m\u001b[0;34m\u001b[0m\u001b[0;34m\u001b[0m\u001b[0m\n\u001b[0;32m----> 8\u001b[0;31m         \u001b[0msuma\u001b[0m\u001b[0;34m=\u001b[0m\u001b[0msuma\u001b[0m\u001b[0;34m+\u001b[0m\u001b[0mpotegowanie\u001b[0m\u001b[0;34m(\u001b[0m\u001b[0mmodul\u001b[0m\u001b[0;34m(\u001b[0m\u001b[0mfunc\u001b[0m\u001b[0;34m(\u001b[0m\u001b[0mi\u001b[0m\u001b[0;34m)\u001b[0m\u001b[0;34m)\u001b[0m\u001b[0;34m,\u001b[0m\u001b[0;36m2\u001b[0m\u001b[0;34m)\u001b[0m\u001b[0;34m\u001b[0m\u001b[0;34m\u001b[0m\u001b[0m\n\u001b[0m\u001b[1;32m      9\u001b[0m     \u001b[0;32mreturn\u001b[0m \u001b[0msuma\u001b[0m\u001b[0;34m\u001b[0m\u001b[0;34m\u001b[0m\u001b[0m\n\u001b[1;32m     10\u001b[0m \u001b[0;34m\u001b[0m\u001b[0m\n",
            "\u001b[0;32m<ipython-input-65-0d3f2a140442>\u001b[0m in \u001b[0;36mmodul\u001b[0;34m(liczba)\u001b[0m\n\u001b[1;32m     13\u001b[0m \u001b[0;34m\u001b[0m\u001b[0m\n\u001b[1;32m     14\u001b[0m \u001b[0;32mdef\u001b[0m \u001b[0mmodul\u001b[0m\u001b[0;34m(\u001b[0m\u001b[0mliczba\u001b[0m\u001b[0;34m)\u001b[0m\u001b[0;34m:\u001b[0m\u001b[0;34m\u001b[0m\u001b[0;34m\u001b[0m\u001b[0m\n\u001b[0;32m---> 15\u001b[0;31m   \u001b[0;32mif\u001b[0m \u001b[0;34m(\u001b[0m\u001b[0misinstance\u001b[0m\u001b[0;34m(\u001b[0m\u001b[0mliczba\u001b[0m\u001b[0;34m,\u001b[0m\u001b[0mfloat\u001b[0m\u001b[0;34m)\u001b[0m \u001b[0;32mor\u001b[0m \u001b[0misinstance\u001b[0m\u001b[0;34m(\u001b[0m\u001b[0mliczba\u001b[0m\u001b[0;34m,\u001b[0m \u001b[0mint\u001b[0m\u001b[0;34m)\u001b[0m \u001b[0;32mor\u001b[0m \u001b[0misinstance\u001b[0m\u001b[0;34m(\u001b[0m\u001b[0mliczba\u001b[0m\u001b[0;34m,\u001b[0m \u001b[0mcomplex\u001b[0m\u001b[0;34m)\u001b[0m\u001b[0;34m)\u001b[0m \u001b[0;32mand\u001b[0m \u001b[0mliczba\u001b[0m\u001b[0;34m<=\u001b[0m\u001b[0;36m0\u001b[0m\u001b[0;34m:\u001b[0m\u001b[0;34m\u001b[0m\u001b[0;34m\u001b[0m\u001b[0m\n\u001b[0m\u001b[1;32m     16\u001b[0m     \u001b[0;32mreturn\u001b[0m \u001b[0mliczba\u001b[0m\u001b[0;34m*\u001b[0m\u001b[0;34m(\u001b[0m\u001b[0;34m-\u001b[0m\u001b[0;36m1\u001b[0m\u001b[0;34m)\u001b[0m\u001b[0;34m\u001b[0m\u001b[0;34m\u001b[0m\u001b[0m\n\u001b[1;32m     17\u001b[0m   \u001b[0;32melif\u001b[0m \u001b[0;34m(\u001b[0m\u001b[0misinstance\u001b[0m\u001b[0;34m(\u001b[0m\u001b[0mliczba\u001b[0m\u001b[0;34m,\u001b[0m\u001b[0mfloat\u001b[0m\u001b[0;34m)\u001b[0m \u001b[0;32mor\u001b[0m \u001b[0misinstance\u001b[0m\u001b[0;34m(\u001b[0m\u001b[0mliczba\u001b[0m\u001b[0;34m,\u001b[0m \u001b[0mint\u001b[0m\u001b[0;34m)\u001b[0m \u001b[0;32mor\u001b[0m \u001b[0misinstance\u001b[0m\u001b[0;34m(\u001b[0m\u001b[0mliczba\u001b[0m\u001b[0;34m,\u001b[0m \u001b[0mcomplex\u001b[0m\u001b[0;34m)\u001b[0m\u001b[0;34m)\u001b[0m \u001b[0;32mand\u001b[0m \u001b[0mliczba\u001b[0m\u001b[0;34m>\u001b[0m\u001b[0;36m0\u001b[0m\u001b[0;34m:\u001b[0m\u001b[0;34m\u001b[0m\u001b[0;34m\u001b[0m\u001b[0m\n",
            "\u001b[0;31mTypeError\u001b[0m: '<=' not supported between instances of 'complex' and 'int'"
          ]
        }
      ]
    },
    {
      "cell_type": "markdown",
      "metadata": {
        "id": "VizEG-WI_MiS"
      },
      "source": [
        "Oblczenie sumy szeregu. Pętla zatrzymuje się gdy przy zwiększaniu n suma się nie zmienia albo zatrzymuje się gdy suma nadal się zwiększa po osiągnięciu n=10000 oznaczając sumę jako sumę nieskończoną. Takie podejście jest możliwe ze względu na skończoną precyzję komputera."
      ]
    },
    {
      "cell_type": "code",
      "metadata": {
        "id": "3MRMgTvf36dz",
        "outputId": "258528c5-4bed-44d5-a3f9-48f3e06fa112",
        "colab": {
          "base_uri": "https://localhost:8080/"
        }
      },
      "source": [
        "\n",
        "n=11\n",
        "suma_a = suma(a, n)\n",
        "suma_poprzednia = suma(a, n - 10)\n",
        "while abs(suma_a-suma_poprzednia) !=0:\n",
        "    suma_a=suma(a,n)\n",
        "    suma_poprzednia=suma(a,n-100)\n",
        "    n = n+10\n",
        "    if n > 10000:\n",
        "        suma_a=\"SUMA NIESKOŃCZONA\"\n",
        "        break\n",
        "\n",
        "n=11\n",
        "suma_b = suma(b, n)\n",
        "suma_poprzednia = suma(b, n - 10)\n",
        "while abs(suma_b-suma_poprzednia) !=0:\n",
        "    suma_b=suma(b,n)\n",
        "    suma_poprzednia=suma(b,n-100)\n",
        "    n = n+10\n",
        "    if n > 10000:\n",
        "        suma_b=\"SUMA NIESKOŃCZONA\"\n",
        "        break\n",
        "\n",
        "print(\"Suma funkcji |a|^2 jest równa \",suma_a)\n",
        "print(\"Suma funkcji |b|^2 jest równa \",suma_b)"
      ],
      "execution_count": 73,
      "outputs": [
        {
          "output_type": "stream",
          "text": [
            "Suma funkcji |a|^2 jest równa  0.3333333333333333\n",
            "Suma funkcji |b|^2 jest równa  0.125\n"
          ],
          "name": "stdout"
        }
      ]
    },
    {
      "cell_type": "markdown",
      "metadata": {
        "id": "Crc7AjVE_xMO"
      },
      "source": [
        "Oczliczenie normy podobnym podejście jak obliczanie sum."
      ]
    },
    {
      "cell_type": "code",
      "metadata": {
        "id": "_quEOuJj4DKP",
        "outputId": "d8b76801-f9a5-49fb-aecd-950fae73cc22",
        "colab": {
          "base_uri": "https://localhost:8080/"
        }
      },
      "source": [
        "n=11\n",
        "norma_a = normaL2(a, n)\n",
        "norma_poprzednia = normaL2(a, n - 10)\n",
        "while abs(norma_a-norma_poprzednia) !=0:\n",
        "    norma_a=normaL2(a,n)\n",
        "    norma_poprzednia=normaL2(a,n-100)\n",
        "    n = n+10\n",
        "    if n > 10000:\n",
        "        norma_a = \"Błąd\" \n",
        "        break\n",
        "\n",
        "n=11\n",
        "norma_b = normaL2(b, n)\n",
        "norma_poprzednia = normaL2(b, n - 10)\n",
        "while abs(norma_b-norma_poprzednia) !=0:\n",
        "    norma_b=normaL2(b,n)\n",
        "    norma_poprzednia=normaL2(b,n-10)\n",
        "    n = n+10\n",
        "    if n > 10000:\n",
        "        norma_b = \"Błąd\"\n",
        "        break\n",
        "\n",
        "print(\"Norma funkcji a jest równa \",norma_a)\n",
        "print(\"Norma funkcji b jest równa \",norma_b)"
      ],
      "execution_count": 76,
      "outputs": [
        {
          "output_type": "stream",
          "text": [
            "Norma funkcji a jest równa  0.5773502691896257\n",
            "Norma funkcji b jest równa  0.3535533905932738\n"
          ],
          "name": "stdout"
        }
      ]
    },
    {
      "cell_type": "markdown",
      "metadata": {
        "id": "-hdrieoN_wI_"
      },
      "source": [
        "Oczliczenie iloczynu skalarnego"
      ]
    },
    {
      "cell_type": "code",
      "metadata": {
        "id": "GK1F4y_z4JsB",
        "outputId": "a88fefd3-8fbc-415a-e552-d78a28ca25a3",
        "colab": {
          "base_uri": "https://localhost:8080/"
        }
      },
      "source": [
        "print(\"iloczyn skalarny = \", iloczyn_skalarny(A_sprzB,1000))"
      ],
      "execution_count": 84,
      "outputs": [
        {
          "output_type": "stream",
          "text": [
            "iloczyn skalarny =  (-0.02702702702702702+0.1621621621621622j)\n"
          ],
          "name": "stdout"
        }
      ]
    }
  ]
}