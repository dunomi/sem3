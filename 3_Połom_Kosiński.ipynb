{
  "nbformat": 4,
  "nbformat_minor": 0,
  "metadata": {
    "colab": {
      "name": "3_Połom_Kosiński.ipynb",
      "provenance": [],
      "authorship_tag": "ABX9TyOExzydeLoqhEyWHMKeRaZ3",
      "include_colab_link": true
    },
    "kernelspec": {
      "name": "python3",
      "display_name": "Python 3"
    }
  },
  "cells": [
    {
      "cell_type": "markdown",
      "metadata": {
        "id": "view-in-github",
        "colab_type": "text"
      },
      "source": [
        "<a href=\"https://colab.research.google.com/github/dunomi/sem3/blob/main/3_Po%C5%82om_Kosi%C5%84ski.ipynb\" target=\"_parent\"><img src=\"https://colab.research.google.com/assets/colab-badge.svg\" alt=\"Open In Colab\"/></a>"
      ]
    },
    {
      "cell_type": "markdown",
      "metadata": {
        "id": "YFsgcwXL3gTR"
      },
      "source": [
        "Program 3\n",
        "\n",
        "Przedmiot: Metody nieliniowej analizy danych 2020/21\n",
        "\n",
        "Autorzy: Eryk Kosiński, Michał Połom"
      ]
    },
    {
      "cell_type": "markdown",
      "metadata": {
        "id": "l_jgZpOHAL_z"
      },
      "source": [
        "Funckje podnoszące liczbę do kwadratu oraz liczące moduł"
      ]
    },
    {
      "cell_type": "code",
      "metadata": {
        "id": "FSeJ8CARALLA"
      },
      "source": [
        "def potegowanie(liczba,potega):\n",
        "  if isinstance(1,int) and potega<0:\n",
        "    pot=1/liczba\n",
        "    liczba=1/liczba\n",
        "    potega=potega*(-1)\n",
        "  elif isinstance(1,int) and potega>0:\n",
        "    pot=liczba\n",
        "  else:\n",
        "    return \"błąd\"\n",
        "  for i in range(1,potega):\n",
        "    pot=pot*liczba\n",
        "  return pot\n",
        "\n",
        "def modul(liczba):\n",
        "  if (isinstance(liczba,float) or isinstance(liczba, int)) and liczba<=0:\n",
        "    return liczba*(-1)\n",
        "  elif (isinstance(liczba,float) or isinstance(liczba, int)) and liczba>0: \n",
        "    return liczba\n",
        "  elif isinstance(liczba, complex): \n",
        "    return (potegowanie(liczba.real,2)+potegowanie(liczba.imag,2))**(1/2)\n",
        "  else:\n",
        "    return \"błąd\""
      ],
      "execution_count": 93,
      "outputs": []
    },
    {
      "cell_type": "markdown",
      "metadata": {
        "id": "ICYvZLYA318w"
      },
      "source": [
        "Definiowanie funckji"
      ]
    },
    {
      "cell_type": "code",
      "metadata": {
        "id": "zU43i7Uw3jcG"
      },
      "source": [
        "def a(n): return potegowanie(-1/2,n)\n",
        "def b(n): return potegowanie(1/3*complex(0,1),n)\n",
        "\n",
        "#Do liczenia sum / Do sprawdzenia czy należy do Hilberta\n",
        "def suma(func,n):\n",
        "    suma=0\n",
        "    for i in range(1,n+1):\n",
        "        suma=suma+potegowanie(modul(func(i)),2)\n",
        "    return suma\n",
        "\n",
        "def print_sumy(func):\n",
        "    for i in (1,5,10,50,100,500,1000):\n",
        "        print(\"Funkcja: {}, n={}, suma={}\".format(func.__name__,i,suma(func,i)))\n",
        "\n",
        "#Do normy\n",
        "def normaL2(func,n):\n",
        "    suma=0\n",
        "    for i in range(1,n+1):\n",
        "        suma=suma+potegowanie(modul(func(i)),2)\n",
        "    return suma**(1/2)\n",
        "\n",
        "#Do iloczynu skalarnego\n",
        "def A_sprzB(n): \n",
        "  #return potegowanie(-1/2,n) * potegowanie(-complex(0,1)/3,n) #przed przekształceniem\n",
        "  return potegowanie(complex(0,1)/6,n) #po przekształceniu\n",
        "\n",
        "def iloczyn_skalarny(func,n):\n",
        "    suma=0\n",
        "    for i in range(1,n+1):\n",
        "        suma=suma+func(i)\n",
        "    return suma\n"
      ],
      "execution_count": 106,
      "outputs": []
    },
    {
      "cell_type": "markdown",
      "metadata": {
        "id": "SUsisMsj-6T1"
      },
      "source": [
        "Obliczenie kilku sum dla różnych n. Tutaj jak i dalej wykorzystano metode liczenia kolejnych sum, a nie wykorzystano wzorów na sume szeregu geometrycznego."
      ]
    },
    {
      "cell_type": "code",
      "metadata": {
        "id": "7XiItYcf34Pw",
        "outputId": "bf0d1c25-36a9-498c-dd12-36430299639d",
        "colab": {
          "base_uri": "https://localhost:8080/"
        }
      },
      "source": [
        "print_sumy(a)\n",
        "print_sumy(b)"
      ],
      "execution_count": 97,
      "outputs": [
        {
          "output_type": "stream",
          "text": [
            "Funkcja: a, n=1, suma=0.25\n",
            "Funkcja: a, n=5, suma=0.3330078125\n",
            "Funkcja: a, n=10, suma=0.33333301544189453\n",
            "Funkcja: a, n=50, suma=0.3333333333333333\n",
            "Funkcja: a, n=100, suma=0.3333333333333333\n",
            "Funkcja: a, n=500, suma=0.3333333333333333\n",
            "Funkcja: a, n=1000, suma=0.3333333333333333\n",
            "Funkcja: b, n=1, suma=0.1111111111111111\n",
            "Funkcja: b, n=5, suma=0.12499788311402395\n",
            "Funkcja: b, n=10, suma=0.12499999996415036\n",
            "Funkcja: b, n=50, suma=0.125\n",
            "Funkcja: b, n=100, suma=0.125\n",
            "Funkcja: b, n=500, suma=0.125\n",
            "Funkcja: b, n=1000, suma=0.125\n"
          ],
          "name": "stdout"
        }
      ]
    },
    {
      "cell_type": "markdown",
      "metadata": {
        "id": "VizEG-WI_MiS"
      },
      "source": [
        "Oblczenie sumy szeregu. Pętla zatrzymuje się gdy przy zwiększaniu n suma się nie zmienia albo zatrzymuje się gdy suma nadal się zwiększa po osiągnięciu n=10000 oznaczając sumę jako sumę nieskończoną. Takie podejście jest możliwe ze względu na skończoną precyzję komputera."
      ]
    },
    {
      "cell_type": "code",
      "metadata": {
        "id": "3MRMgTvf36dz",
        "outputId": "258528c5-4bed-44d5-a3f9-48f3e06fa112",
        "colab": {
          "base_uri": "https://localhost:8080/"
        }
      },
      "source": [
        "n=11\n",
        "suma_a = suma(a, n)\n",
        "suma_poprzednia = suma(a, n - 10)\n",
        "while abs(suma_a-suma_poprzednia) !=0:\n",
        "    suma_a=suma(a,n)\n",
        "    suma_poprzednia=suma(a,n-100)\n",
        "    n = n+10\n",
        "    if n > 10000:\n",
        "        suma_a=\"SUMA NIESKOŃCZONA\"\n",
        "        break\n",
        "\n",
        "n=11\n",
        "suma_b = suma(b, n)\n",
        "suma_poprzednia = suma(b, n - 10)\n",
        "while abs(suma_b-suma_poprzednia) !=0:\n",
        "    suma_b=suma(b,n)\n",
        "    suma_poprzednia=suma(b,n-100)\n",
        "    n = n+10\n",
        "    if n > 10000:\n",
        "        suma_b=\"SUMA NIESKOŃCZONA\"\n",
        "        break\n",
        "\n",
        "print(\"Suma funkcji |a|^2 jest równa \",suma_a)\n",
        "print(\"Suma funkcji |b|^2 jest równa \",suma_b)"
      ],
      "execution_count": 73,
      "outputs": [
        {
          "output_type": "stream",
          "text": [
            "Suma funkcji |a|^2 jest równa  0.3333333333333333\n",
            "Suma funkcji |b|^2 jest równa  0.125\n"
          ],
          "name": "stdout"
        }
      ]
    },
    {
      "cell_type": "markdown",
      "metadata": {
        "id": "Crc7AjVE_xMO"
      },
      "source": [
        "Oczliczenie normy podobnym podejście jak obliczanie sum."
      ]
    },
    {
      "cell_type": "code",
      "metadata": {
        "id": "_quEOuJj4DKP",
        "outputId": "c24a4168-c425-4d3b-b8cc-8908789bec3e",
        "colab": {
          "base_uri": "https://localhost:8080/"
        }
      },
      "source": [
        "n=11\n",
        "norma_a = normaL2(a, n)\n",
        "norma_poprzednia = normaL2(a, n - 10)\n",
        "while abs(norma_a-norma_poprzednia) !=0:\n",
        "    norma_a=normaL2(a,n)\n",
        "    norma_poprzednia=normaL2(a,n-100)\n",
        "    n = n+10\n",
        "    if n > 10000:\n",
        "        norma_a = \"Błąd\" \n",
        "        break\n",
        "\n",
        "n=11\n",
        "norma_b = normaL2(b, n)\n",
        "norma_poprzednia = normaL2(b, n - 10)\n",
        "while abs(norma_b-norma_poprzednia) !=0:\n",
        "    norma_b=normaL2(b,n)\n",
        "    norma_poprzednia=normaL2(b,n-10)\n",
        "    n = n+10\n",
        "    if n > 10000:\n",
        "        norma_b = \"Błąd\"\n",
        "        break\n",
        "\n",
        "print(\"Norma funkcji a jest równa \",norma_a)\n",
        "print(\"Norma funkcji b jest równa \",norma_b)"
      ],
      "execution_count": 100,
      "outputs": [
        {
          "output_type": "stream",
          "text": [
            "Norma funkcji a jest równa  0.5773502691896257\n",
            "Norma funkcji b jest równa  0.3535533905932738\n"
          ],
          "name": "stdout"
        }
      ]
    },
    {
      "cell_type": "code",
      "metadata": {
        "id": "6WP4-h4_Ig8O",
        "outputId": "0041e2e1-9e63-4f56-b090-c4a7e980e772",
        "colab": {
          "base_uri": "https://localhost:8080/"
        }
      },
      "source": [
        "normaL2(b,1000)"
      ],
      "execution_count": 108,
      "outputs": [
        {
          "output_type": "execute_result",
          "data": {
            "text/plain": [
              "0.3535533905932738"
            ]
          },
          "metadata": {
            "tags": []
          },
          "execution_count": 108
        }
      ]
    },
    {
      "cell_type": "markdown",
      "metadata": {
        "id": "-hdrieoN_wI_"
      },
      "source": [
        "Oczliczenie iloczynu skalarnego"
      ]
    },
    {
      "cell_type": "code",
      "metadata": {
        "id": "GK1F4y_z4JsB",
        "outputId": "fdc35800-bf6e-4093-b149-780c6690667a",
        "colab": {
          "base_uri": "https://localhost:8080/"
        }
      },
      "source": [
        "print(\"iloczyn skalarny = \", iloczyn_skalarny(A_sprzB,1000))"
      ],
      "execution_count": 105,
      "outputs": [
        {
          "output_type": "stream",
          "text": [
            "iloczyn skalarny =  (-0.02702702702702702+0.1621621621621622j)\n"
          ],
          "name": "stdout"
        }
      ]
    }
  ]
}