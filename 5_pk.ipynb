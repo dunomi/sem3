{
  "nbformat": 4,
  "nbformat_minor": 0,
  "metadata": {
    "colab": {
      "name": "Untitled3.ipynb",
      "provenance": [],
      "collapsed_sections": [],
      "authorship_tag": "ABX9TyO3GVd6eYJvp1NyPYK/aUYR",
      "include_colab_link": true
    },
    "kernelspec": {
      "name": "python3",
      "display_name": "Python 3"
    }
  },
  "cells": [
    {
      "cell_type": "markdown",
      "metadata": {
        "id": "view-in-github",
        "colab_type": "text"
      },
      "source": [
        "<a href=\"https://colab.research.google.com/github/dunomi/sem3/blob/main/5_pk.ipynb\" target=\"_parent\"><img src=\"https://colab.research.google.com/assets/colab-badge.svg\" alt=\"Open In Colab\"/></a>"
      ]
    },
    {
      "cell_type": "markdown",
      "metadata": {
        "id": "I3oRzPXIyoy4"
      },
      "source": [
        "Program 5\n",
        "\n",
        "Przedmiot: Metody nieliniowej analizy danych 2020/21\n",
        "\n",
        "Autorzy: Eryk Kosiński, Michał Połom"
      ]
    },
    {
      "cell_type": "code",
      "metadata": {
        "id": "qWNX1DSdyu5Q"
      },
      "source": [
        "import pandas as pd\n",
        "import numpy as np"
      ],
      "execution_count": 14,
      "outputs": []
    },
    {
      "cell_type": "code",
      "metadata": {
        "id": "T-qSj5vC9MxQ",
        "outputId": "5c67469c-77c7-4462-a57c-4b9831cbcb97",
        "colab": {
          "base_uri": "https://localhost:8080/"
        }
      },
      "source": [
        "#def trans_matrix(A):\n",
        "print(len(X[0]))\n",
        "print(len(X))\n",
        "\n",
        "for i in range(len(X[0])):\n",
        " print(X[0][i]) \n",
        "  "
      ],
      "execution_count": 56,
      "outputs": [
        {
          "output_type": "stream",
          "text": [
            "6\n",
            "2\n",
            "1\n",
            "1\n",
            "1\n",
            "1\n",
            "1\n",
            "1\n"
          ],
          "name": "stdout"
        }
      ]
    },
    {
      "cell_type": "code",
      "metadata": {
        "id": "Lgu1Sh4C9WkI",
        "outputId": "74971638-9cea-4df6-fcec-73e3d7e275da",
        "colab": {
          "base_uri": "https://localhost:8080/"
        }
      },
      "source": [
        "x=[0.35,0.45,0.6,0.95,1.2,1.7]\n",
        "y=[0.1,0.15,0.18,0.24,0.28,0.35]\n",
        "X=[[1 for i in range(len(x))],x]\n",
        "X\n"
      ],
      "execution_count": 48,
      "outputs": [
        {
          "output_type": "execute_result",
          "data": {
            "text/plain": [
              "2"
            ]
          },
          "metadata": {
            "tags": []
          },
          "execution_count": 48
        }
      ]
    },
    {
      "cell_type": "markdown",
      "metadata": {
        "id": "cdbHuu-a9BzH"
      },
      "source": [
        "**SPRAWDZENIE**"
      ]
    },
    {
      "cell_type": "markdown",
      "metadata": {
        "id": "91Xb3JNS0rmm"
      },
      "source": [
        "okres - t, \n",
        "dochod - x, \n",
        "wydatki - y"
      ]
    },
    {
      "cell_type": "code",
      "metadata": {
        "id": "wHa7SaIfzO7Z",
        "outputId": "ad098f34-a96a-49c1-ff1e-93e24f8dffee",
        "colab": {
          "base_uri": "https://localhost:8080/"
        }
      },
      "source": [
        "d={'t':[1,2,3,4,5,6],'x':[0.35,0.45,0.6,0.95,1.2,1.7],'y':[0.1,0.15,0.18,0.24,0.28,0.35]}\n",
        "tab=pd.DataFrame(data=d)\n",
        "\n",
        "X=np.transpose(np.array([[1,1,1,1,1,1],tab['x']]))\n",
        "Xt=np.transpose(X)\n",
        "y=np.transpose(np.array(tab['y']))\n",
        "a=np.dot(np.dot(np.linalg.inv(np.dot(Xt,X)),Xt),y)\n",
        "a"
      ],
      "execution_count": 42,
      "outputs": [
        {
          "output_type": "execute_result",
          "data": {
            "text/plain": [
              "array([0.06331445, 0.17525968])"
            ]
          },
          "metadata": {
            "tags": []
          },
          "execution_count": 42
        }
      ]
    }
  ]
}