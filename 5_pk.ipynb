{
  "nbformat": 4,
  "nbformat_minor": 0,
  "metadata": {
    "colab": {
      "name": "Untitled3.ipynb",
      "provenance": [],
      "collapsed_sections": [],
      "authorship_tag": "ABX9TyMfb3lPaxn0dyEezNenepC6",
      "include_colab_link": true
    },
    "kernelspec": {
      "name": "python3",
      "display_name": "Python 3"
    }
  },
  "cells": [
    {
      "cell_type": "markdown",
      "metadata": {
        "id": "view-in-github",
        "colab_type": "text"
      },
      "source": [
        "<a href=\"https://colab.research.google.com/github/dunomi/sem3/blob/main/5_pk.ipynb\" target=\"_parent\"><img src=\"https://colab.research.google.com/assets/colab-badge.svg\" alt=\"Open In Colab\"/></a>"
      ]
    },
    {
      "cell_type": "markdown",
      "metadata": {
        "id": "I3oRzPXIyoy4"
      },
      "source": [
        "Program 5\n",
        "\n",
        "Przedmiot: Metody nieliniowej analizy danych 2020/21\n",
        "\n",
        "Autorzy: Eryk Kosiński, Michał Połom"
      ]
    },
    {
      "cell_type": "code",
      "metadata": {
        "id": "qWNX1DSdyu5Q"
      },
      "source": [
        "import pandas as pd\n",
        "import numpy as np"
      ],
      "execution_count": null,
      "outputs": []
    },
    {
      "cell_type": "code",
      "metadata": {
        "id": "T-qSj5vC9MxQ"
      },
      "source": [
        "def trans_matrix(X):\n",
        "  \"\"\"\n",
        "  transponowanie macierzy postaci listy list, \n",
        "  gdzie każda podlista reprezentuje wiersz macierzy\n",
        "  np. \n",
        "  X=[[1,2,3],[4,5,6]] \n",
        "  trans_matrix(X)\n",
        "  wynik transponowania: [[1, 4], [2, 5], [3, 6]]\n",
        "  \"\"\"\n",
        "  trans=[]\n",
        "\n",
        "  for i in range(len(X[0])):\n",
        "    trans.append([]) \n",
        "    for j in range(len(X)):\n",
        "      trans[i].append(X[j][i])\n",
        "  return trans\n",
        "\n",
        "def multi_sum_list(A,B):\n",
        "  \"\"\"\n",
        "  mnożenie list a następnie sumowanie elementów\n",
        "  \"\"\"\n",
        "  return sum([a * b for a, b in zip(A, B)])\n",
        "\n",
        "def multi_matrix(X,Y):\n",
        "  \"\"\"\n",
        "  mnożenie macierzy postaci listy list, \n",
        "  gdzie każda podlista reprezentuje wiersz macierzy\n",
        "  np.\n",
        "  X=[[1,2],[4,5]] \n",
        "  Y=[[3,2],[4,1]] \n",
        "  multi_matrix(X,Y)\n",
        "  wynik mnozenia: [[11, 4], [32, 13]]\n",
        "  \"\"\"\n",
        "  Y=trans_matrix(Y)\n",
        "  multi=[]\n",
        "  [multi.append([]) for i in range(len(X))]\n",
        "\n",
        "  for i in range(len(X)):\n",
        "    for j in range(len(Y)):\n",
        "      multi[i].append(multi_sum_list(X[i],Y[j]))\n",
        "  return multi"
      ],
      "execution_count": 59,
      "outputs": []
    },
    {
      "cell_type": "markdown",
      "metadata": {
        "id": "dahfwzAdHfCe"
      },
      "source": [
        "Wczytanie danych do list oraz stworzenie macierzy X"
      ]
    },
    {
      "cell_type": "code",
      "metadata": {
        "id": "Lgu1Sh4C9WkI",
        "outputId": "9b61e3e7-698b-41d7-a009-7dca679d1b75",
        "colab": {
          "base_uri": "https://localhost:8080/"
        }
      },
      "source": [
        "\n",
        "x=[0.35,0.45,0.6,0.95,1.2,1.7]\n",
        "y=[[0.1,0.15,0.18,0.24,0.28,0.35]]\n",
        "\n",
        "X=trans_matrix([[1 for i in range(len(x))],x])\n",
        "\n",
        "\n"
      ],
      "execution_count": 123,
      "outputs": [
        {
          "output_type": "stream",
          "text": [
            "[[1, 0.35], [1, 0.45], [1, 0.6], [1, 0.95], [1, 1.2], [1, 1.7]]\n",
            "[[0.1, 0.15, 0.18, 0.24, 0.28, 0.35]]\n"
          ],
          "name": "stdout"
        },
        {
          "output_type": "execute_result",
          "data": {
            "text/plain": [
              "[[0.063314447592068], [0.17525967894239852]]"
            ]
          },
          "metadata": {
            "tags": []
          },
          "execution_count": 123
        }
      ]
    },
    {
      "cell_type": "markdown",
      "metadata": {
        "id": "PrSSLcRqHjn6"
      },
      "source": [
        "Obliczenie *a* według wzoru (X^T*X)^(-1)*X^T*y\n",
        "\n",
        "przy użyciu wcześniej napisanych funkcji mnożenie i transponowania macierzy\n",
        "\n",
        "oraz przy użyciu funkcji z pakietu numpy do odwracania macierzy"
      ]
    },
    {
      "cell_type": "code",
      "metadata": {
        "id": "6aP2tXkZHjD8",
        "outputId": "a04f1feb-6351-4da0-d071-88728b5c2037",
        "colab": {
          "base_uri": "https://localhost:8080/"
        }
      },
      "source": [
        "multi_matrix(\n",
        "    multi_matrix(\n",
        "        np.linalg.inv(multi_matrix(trans_matrix(X),X)),\n",
        "    trans_matrix(X)),\n",
        "trans_matrix(y))"
      ],
      "execution_count": 125,
      "outputs": [
        {
          "output_type": "execute_result",
          "data": {
            "text/plain": [
              "[[0.063314447592068], [0.17525967894239852]]"
            ]
          },
          "metadata": {
            "tags": []
          },
          "execution_count": 125
        }
      ]
    },
    {
      "cell_type": "markdown",
      "metadata": {
        "id": "cdbHuu-a9BzH"
      },
      "source": [
        "**SPRAWDZENIE**\n",
        "\n",
        "Sprawdznie wyniku przy użyciu funkcji z pakietu numpy\n",
        "\n",
        "okres - t, \n",
        "dochod - x, \n",
        "wydatki - y"
      ]
    },
    {
      "cell_type": "code",
      "metadata": {
        "id": "XxayNCFTIgdn",
        "outputId": "926c7849-b679-498b-87cf-be08f0e3c824",
        "colab": {
          "base_uri": "https://localhost:8080/"
        }
      },
      "source": [
        "np.polyfit(tab['x'],tab['y'],1)"
      ],
      "execution_count": 132,
      "outputs": [
        {
          "output_type": "execute_result",
          "data": {
            "text/plain": [
              "array([0.17525968, 0.06331445])"
            ]
          },
          "metadata": {
            "tags": []
          },
          "execution_count": 132
        }
      ]
    },
    {
      "cell_type": "code",
      "metadata": {
        "id": "wHa7SaIfzO7Z",
        "outputId": "e2310a6f-f06d-4b84-f7f6-47124ba209bc",
        "colab": {
          "base_uri": "https://localhost:8080/"
        }
      },
      "source": [
        "d={'t':[1,2,3,4,5,6],'x':[0.35,0.45,0.6,0.95,1.2,1.7],'y':[0.1,0.15,0.18,0.24,0.28,0.35]}\n",
        "tab=pd.DataFrame(data=d)\n",
        "\n",
        "X1=np.transpose(np.array([[1,1,1,1,1,1],tab['x']]))\n",
        "Xt1=np.transpose(X)\n",
        "y1=np.transpose(np.array(tab['y']))\n",
        "a=np.dot(np.dot(np.linalg.inv(np.dot(Xt1,X1)),Xt1),y1)\n",
        "a"
      ],
      "execution_count": 122,
      "outputs": [
        {
          "output_type": "execute_result",
          "data": {
            "text/plain": [
              "array([0.06331445, 0.17525968])"
            ]
          },
          "metadata": {
            "tags": []
          },
          "execution_count": 122
        }
      ]
    }
  ]
}