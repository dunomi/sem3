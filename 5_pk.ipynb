{
  "nbformat": 4,
  "nbformat_minor": 0,
  "metadata": {
    "colab": {
      "name": "Untitled3.ipynb",
      "provenance": [],
      "collapsed_sections": [],
      "authorship_tag": "ABX9TyODVTNA64vVC5d3zlkQaOj4",
      "include_colab_link": true
    },
    "kernelspec": {
      "name": "python3",
      "display_name": "Python 3"
    }
  },
  "cells": [
    {
      "cell_type": "markdown",
      "metadata": {
        "id": "view-in-github",
        "colab_type": "text"
      },
      "source": [
        "<a href=\"https://colab.research.google.com/github/dunomi/sem3/blob/main/5_pk.ipynb\" target=\"_parent\"><img src=\"https://colab.research.google.com/assets/colab-badge.svg\" alt=\"Open In Colab\"/></a>"
      ]
    },
    {
      "cell_type": "markdown",
      "metadata": {
        "id": "I3oRzPXIyoy4"
      },
      "source": [
        "Program 5\n",
        "\n",
        "Przedmiot: Metody nieliniowej analizy danych 2020/21\n",
        "\n",
        "Autorzy: Eryk Kosiński, Michał Połom"
      ]
    },
    {
      "cell_type": "code",
      "metadata": {
        "id": "qWNX1DSdyu5Q"
      },
      "source": [
        "import pandas as pd\n",
        "import numpy as np"
      ],
      "execution_count": 5,
      "outputs": []
    },
    {
      "cell_type": "code",
      "metadata": {
        "id": "T-qSj5vC9MxQ",
        "outputId": "a9a34954-5dec-4c8e-8370-346d343ecd39",
        "colab": {
          "base_uri": "https://localhost:8080/"
        }
      },
      "source": [
        "def trans_matrix(X):\n",
        "  \"\"\"\n",
        "  transponowanie macierzy postaci listy list, \n",
        "  gdzie każda podlista reprezentuje wiersz macierzy\n",
        "  np. \n",
        "  X=[[1,2,3],[4,5,6]] \n",
        "  trans_matrix(X)\n",
        "  wynik transponowania: [[1, 4], [2, 5], [3, 6]]\n",
        "  \"\"\"\n",
        "  trans=[]\n",
        "\n",
        "  for i in range(len(X[0])):\n",
        "    trans.append([]) \n",
        "    for j in range(len(X)):\n",
        "      trans[i].append(X[j][i])\n",
        "  return trans"
      ],
      "execution_count": 27,
      "outputs": [
        {
          "output_type": "execute_result",
          "data": {
            "text/plain": [
              "[[1, 4], [2, 5], [3, 6]]"
            ]
          },
          "metadata": {
            "tags": []
          },
          "execution_count": 27
        }
      ]
    },
    {
      "cell_type": "code",
      "metadata": {
        "id": "Lgu1Sh4C9WkI",
        "outputId": "83c131c3-2279-4426-d466-51623c12df9d",
        "colab": {
          "base_uri": "https://localhost:8080/"
        }
      },
      "source": [
        "x=[0.35,0.45,0.6,0.95,1.2,1.7]\n",
        "y=[0.1,0.15,0.18,0.24,0.28,0.35]\n",
        "X=[[1 for i in range(len(x))],x]\n",
        "X\n"
      ],
      "execution_count": 26,
      "outputs": [
        {
          "output_type": "execute_result",
          "data": {
            "text/plain": [
              "[[1, 0.35], [1, 0.45], [1, 0.6], [1, 0.95], [1, 1.2], [1, 1.7]]"
            ]
          },
          "metadata": {
            "tags": []
          },
          "execution_count": 26
        }
      ]
    },
    {
      "cell_type": "markdown",
      "metadata": {
        "id": "cdbHuu-a9BzH"
      },
      "source": [
        "**SPRAWDZENIE**"
      ]
    },
    {
      "cell_type": "markdown",
      "metadata": {
        "id": "91Xb3JNS0rmm"
      },
      "source": [
        "okres - t, \n",
        "dochod - x, \n",
        "wydatki - y"
      ]
    },
    {
      "cell_type": "code",
      "metadata": {
        "id": "wHa7SaIfzO7Z",
        "outputId": "ad098f34-a96a-49c1-ff1e-93e24f8dffee",
        "colab": {
          "base_uri": "https://localhost:8080/"
        }
      },
      "source": [
        "d={'t':[1,2,3,4,5,6],'x':[0.35,0.45,0.6,0.95,1.2,1.7],'y':[0.1,0.15,0.18,0.24,0.28,0.35]}\n",
        "tab=pd.DataFrame(data=d)\n",
        "\n",
        "X=np.transpose(np.array([[1,1,1,1,1,1],tab['x']]))\n",
        "Xt=np.transpose(X)\n",
        "y=np.transpose(np.array(tab['y']))\n",
        "a=np.dot(np.dot(np.linalg.inv(np.dot(Xt,X)),Xt),y)\n",
        "a"
      ],
      "execution_count": null,
      "outputs": [
        {
          "output_type": "execute_result",
          "data": {
            "text/plain": [
              "array([0.06331445, 0.17525968])"
            ]
          },
          "metadata": {
            "tags": []
          },
          "execution_count": 42
        }
      ]
    }
  ]
}