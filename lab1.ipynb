{
  "nbformat": 4,
  "nbformat_minor": 0,
  "metadata": {
    "kernelspec": {
      "display_name": "Python 3",
      "language": "python",
      "name": "python3"
    },
    "language_info": {
      "codemirror_mode": {
        "name": "ipython",
        "version": 3
      },
      "file_extension": ".py",
      "mimetype": "text/x-python",
      "name": "python",
      "nbconvert_exporter": "python",
      "pygments_lexer": "ipython3",
      "version": "3.7.7"
    },
    "colab": {
      "name": "lab1.ipynb",
      "provenance": [],
      "include_colab_link": true
    }
  },
  "cells": [
    {
      "cell_type": "markdown",
      "metadata": {
        "id": "view-in-github",
        "colab_type": "text"
      },
      "source": [
        "<a href=\"https://colab.research.google.com/github/dunomi/sem3/blob/main/lab1.ipynb\" target=\"_parent\"><img src=\"https://colab.research.google.com/assets/colab-badge.svg\" alt=\"Open In Colab\"/></a>"
      ]
    },
    {
      "cell_type": "markdown",
      "metadata": {
        "id": "LvFXi4jArIi1"
      },
      "source": [
        "Program 1, wersja 2\n",
        "\n",
        "Przedmiot: Metody nieliniowej analizy danych 2020/21\n",
        "\n",
        "Autorzy: Eryk Kosiński, Michał Połom"
      ]
    },
    {
      "cell_type": "markdown",
      "metadata": {
        "id": "v7N7S3P3rW2L"
      },
      "source": [
        "1. Import bibliotek"
      ]
    },
    {
      "cell_type": "code",
      "metadata": {
        "id": "kVocUpFCy5Eq"
      },
      "source": [
        "import numpy as np\n",
        "import scipy\n",
        "from scipy.integrate import quad\n",
        "import warnings"
      ],
      "execution_count": 16,
      "outputs": []
    },
    {
      "cell_type": "markdown",
      "metadata": {
        "id": "dSG3uIBErZ5E"
      },
      "source": [
        "2. Definiowanie funkcji.\n",
        "\n",
        "Fukncje zdefiniowana na dwa sposoby, jednak do dalszej analizy użyto funkcji *f* oraz *g*."
      ]
    },
    {
      "cell_type": "code",
      "metadata": {
        "id": "tycPY5H1y5Ew"
      },
      "source": [
        "def f(x):\n",
        "    if 0 <= x <= 1:\n",
        "        wynik = (1/3)**x\n",
        "    else:\n",
        "        wynik = 0\n",
        "    return abs(wynik)**2\n",
        "\n",
        "def g(x):\n",
        "    z = complex(1.,1.)\n",
        "    if 0 <= x <= 1:\n",
        "        wynik = z*np.exp(x)\n",
        "    else:\n",
        "        wynik = complex(0)\n",
        "    return abs(wynik)**2    \n",
        "\n",
        "#Inny sposób na zapisanie funkcji (bez abs, używana do iloczynu skalarnego)\n",
        "def f2(x):\n",
        "  return ((1/3)**x)*(0<=x<=1)\n",
        "   \n",
        "def g2(x):\n",
        "    z = complex(1.,1.)\n",
        "    return (z*np.exp(x))*(0<=x<=1)+complex(0,0)*(0>x or x>1)\n",
        "     "
      ],
      "execution_count": 17,
      "outputs": []
    },
    {
      "cell_type": "markdown",
      "metadata": {
        "id": "4qIfMHPmrxcE"
      },
      "source": [
        "3. Właściwa część programu\n"
      ]
    },
    {
      "cell_type": "code",
      "metadata": {
        "id": "KGLfP_V8y5E3",
        "outputId": "947ed7bf-d3f6-475f-b33c-db6919473064",
        "colab": {
          "base_uri": "https://localhost:8080/",
          "height": 141
        }
      },
      "source": [
        "#Zmiana \"warningu\" na \"error\" dla późniejszego oczekiwanego działania funkcji try\n",
        "warnings.filterwarnings(\"error\")\n",
        "\n",
        "#Sprawdzenie należenia do p.Hilberta oraz obliczenie norm\n",
        "czy_hilbert=dict()\n",
        "for i in [f,g]:\n",
        "    try:\n",
        "        calka = quad(i,-np.inf,np.inf)\n",
        "        norma = calka[0]**(1/2)\n",
        "        if calka[0]==np.inf: \n",
        "            print('Całka funckji {} u jest nieskończona'.format(i.__name__))\n",
        "            czy_hilbert[i.__name__]=0\n",
        "        else:\n",
        "            print(\"Całka funckji |{}|^p dla p=2 jest równa {}, zatem {} należy do przestrzeni Hilberta\".format(i.__name__,calka[0],i.__name__))\n",
        "            print(\"Norma funckji {} jest równa {}\".format(i.__name__,norma))\n",
        "            czy_hilbert[i.__name__]=1\n",
        "    except:\n",
        "        print('Całka funckji {} jest nieskończona'.format(i.__name__))\n",
        "        czy_hilbert[i.__name__]=0\n",
        "\n",
        "\n",
        "print(\"\")\n",
        "#Wnioskowania należenia funkcji do p.Banacha\n",
        "print(\"Z faktu iż przestrzeń L^q[a,b] zwiera się w L^p[a,b], gdzie 1<=p<q<oo oraz Omega=[a,b] można wywnioskować:\")\n",
        "if czy_hilbert[f.__name__]==1 and czy_hilbert[g.__name__]==1:\n",
        "  print(\"Skoro {} i {} należą do porzestrzeni Hilberta, należą one również do przestrzeni Banacha dla wymiaru mniejszego od 2\".format(f.__name__,g.__name__))\n",
        "elif czy_hilbert[f.__name__]==1 and czy_hilbert[g.__name__]==0:\n",
        "  print(\"Skoro {} należy do porzestrzeni Hilberta, należy też do przestrzeni Banacha dla wymiaru mniejszego od 2\".format(f.__name__))\n",
        "elif czy_hilbert[f.__name__]==0 and czy_hilbert[g.__name__]==1:\n",
        "  print(\"Skoro {} należy do porzestrzeni Hilberta, należy też do przestrzeni Banacha dla wymiaru mniejszego od 2\".format(g.__name__))\n",
        "else:\n",
        "  print(\"Ani {} ani {} nie należą do przestrzeni Hilberta, zatem nie należą również do przestrzeni Banacha\".format(f.__name__,g.__name__))"
      ],
      "execution_count": 18,
      "outputs": [
        {
          "output_type": "stream",
          "text": [
            "Całka funckji |f|^p dla p=2 jest równa 0.4045507673897055, zatem f należy do przestrzeni Hilberta\n",
            "Norma funckji f jest równa 0.6360430546666677\n",
            "Całka funckji |g|^p dla p=2 jest równa 6.3890560989306495, zatem g należy do przestrzeni Hilberta\n",
            "Norma funckji g jest równa 2.5276582243117143\n",
            "\n",
            "Z faktu iż przestrzeń L^q[a,b] zwiera się w L^p[a,b], gdzie 1<=p<q<oo oraz Omega=[a,b] można wywnioskować:\n",
            "Skoro f i g należą do porzestrzeni Hilberta, należą one również do przestrzeni Banacha dla wymiaru mniejszego od 2\n"
          ],
          "name": "stdout"
        }
      ]
    },
    {
      "cell_type": "code",
      "metadata": {
        "id": "SS7cTaV4JVcN",
        "outputId": "856e10b6-6642-4ab4-cff3-e488ba7a234a",
        "colab": {
          "base_uri": "https://localhost:8080/",
          "height": 34
        }
      },
      "source": [
        "#Funckcja complex ma problem z liczeniem liczb zespolonych, dlatego \n",
        "#oddzielnie wyliczcone zostaly całki dla czesci urojonej oraz rzeczywistej \n",
        "def c_quad(function, a, b):\n",
        "    def real_f(x):\n",
        "        return np.real(function(x))\n",
        "    def imag_f(x):\n",
        "        return np.imag(function(x))\n",
        "    real = quad(real_f, a, b)\n",
        "    imag = quad(imag_f, a, b)\n",
        "    return (real[0] + 1j*imag[0], real[1], imag[1])\n",
        "\n",
        "#Obliczenie iloczynu skalarnego, po sprawdzeniu należenia do p.Hilberta\n",
        "if czy_hilbert[f.__name__]==1 and czy_hilbert[g.__name__]==1:\n",
        "  skalarny=c_quad( lambda x: f2(x)*np.conj(g2(x)),-np.inf,np.inf)[0]\n",
        "  print(\"Iloczyn skalarny funckji {} i {} jest równe {}\".format(f2.__name__,g2.__name__,skalarny))\n",
        "else:\n",
        "  print(\"{} lub {} nie należy do przestrzeni Hilberta, zatem nie można obliczyć <{},{}>\".format(f.__name__,g.__name__,f.__name__,g.__name__))\n"
      ],
      "execution_count": 20,
      "outputs": [
        {
          "output_type": "stream",
          "text": [
            "Iloczyn skalarny funckji f2 i g2 jest równe (0.9522754055163373-0.9522754055163373j)\n"
          ],
          "name": "stdout"
        }
      ]
    }
  ]
}