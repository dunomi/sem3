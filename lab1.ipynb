{
  "nbformat": 4,
  "nbformat_minor": 0,
  "metadata": {
    "kernelspec": {
      "display_name": "Python 3",
      "language": "python",
      "name": "python3"
    },
    "language_info": {
      "codemirror_mode": {
        "name": "ipython",
        "version": 3
      },
      "file_extension": ".py",
      "mimetype": "text/x-python",
      "name": "python",
      "nbconvert_exporter": "python",
      "pygments_lexer": "ipython3",
      "version": "3.7.7"
    },
    "colab": {
      "name": "lab1.ipynb",
      "provenance": [],
      "include_colab_link": true
    }
  },
  "cells": [
    {
      "cell_type": "markdown",
      "metadata": {
        "id": "view-in-github",
        "colab_type": "text"
      },
      "source": [
        "<a href=\"https://colab.research.google.com/github/dunomi/sem3/blob/main/lab1.ipynb\" target=\"_parent\"><img src=\"https://colab.research.google.com/assets/colab-badge.svg\" alt=\"Open In Colab\"/></a>"
      ]
    },
    {
      "cell_type": "code",
      "metadata": {
        "id": "kVocUpFCy5Eq"
      },
      "source": [
        "import numpy as np\n",
        "import scipy\n",
        "from scipy.integrate import quad"
      ],
      "execution_count": 1,
      "outputs": []
    },
    {
      "cell_type": "code",
      "metadata": {
        "id": "tycPY5H1y5Ew"
      },
      "source": [
        "def f(x):\n",
        "    if 0 <= x <= 1:\n",
        "        wynik = (1/3)**x\n",
        "    else:\n",
        "        wynik = 0\n",
        "    return abs(wynik)**2\n",
        "\n",
        "def g(x):\n",
        "    z = complex(1.,1.)\n",
        "    if 0 <= x <= 1:\n",
        "        wynik = z*np.exp(x)\n",
        "    else:\n",
        "        wynik = complex(0)\n",
        "    return abs(wynik)**2    \n",
        "\n",
        "def f2(x):\n",
        "  wynik = ((1/3)**x)*(0<=x<=1)\n",
        "  return abs(wynik)**2\n",
        "\n",
        "def g2(x):\n",
        "    z = complex(1.,1.)\n",
        "    wynik = (z*np.exp(x))*(0<=x<=1)+complex(0,0)*(0>x or x>1)\n",
        "    return abs(wynik)**2   "
      ],
      "execution_count": 20,
      "outputs": []
    },
    {
      "cell_type": "code",
      "metadata": {
        "id": "Ud-CagGzy5Ez"
      },
      "source": [
        "\"\"\"\n",
        "calka1 = quad(f,-np.inf,np.inf)\n",
        "\n",
        "print (\"Całka pierwsza równa jest = {}\".format(calka1[0])) if calka1 != np.inf else print (\"Całka pierwsza jest nieskończona\")\n",
        "\n",
        "\n",
        "#Funckcja complex ma problem z liczeniem liczb zespolonych, dlatego \n",
        "#oddzielnie wyliczcone zostaly całki dla czesci urojonej oraz rzeczywistej \n",
        "def complex_quad(func, a, b):\n",
        "    def real_func(x):\n",
        "        return np.real(func(x))\n",
        "    def imag_func(x):\n",
        "        return np.imag(func(x))\n",
        "    real_integral = quad(real_func, a, b)\n",
        "    imag_integral = quad(imag_func, a, b)\n",
        "    return (real_integral[0] + 1j*imag_integral[0], real_integral[1], imag_integral[1])\n",
        "\n",
        "calka2 = complex_quad(g,-np.inf,np.inf)\n",
        "\n",
        "calka2 = quad(g,-np.inf,np.inf)\n",
        "\n",
        "print (\"Całka druga równa jest = {}\".format(calka2[0])) if calka2 != np.inf else print (\"Całka druga jest nieskończona\")\n",
        "\n",
        "\"\"\""
      ],
      "execution_count": null,
      "outputs": []
    },
    {
      "cell_type": "code",
      "metadata": {
        "id": "KGLfP_V8y5E3",
        "outputId": "ce6f253c-14d3-4e57-f81d-2cd8465299e1",
        "colab": {
          "base_uri": "https://localhost:8080/",
          "height": 102
        }
      },
      "source": [
        "import warnings\n",
        "warnings.filterwarnings(\"error\")\n",
        "\n",
        "czy_hilbert=dict()\n",
        "\n",
        "for i in [f,g]:\n",
        "    try:\n",
        "        calka = quad(i,-np.inf,np.inf)\n",
        "        norma = calka[0]**(1/2)\n",
        "        if calka[0]==np.inf: \n",
        "            print('Całka funckji {} u jest nieskończona'.format(i.__name__))\n",
        "        else:\n",
        "            print(\"Całka funckji |{}|^p dla p=2 jest równa {}, zatem {} należy do przestrzeni Hilberta\".format(i.__name__,calka[0],i.__name__))\n",
        "            print(\"Norma funckji {} jest równa {}\".format(i.__name__,norma))\n",
        "            czy_hilbert[i.__name__]=1\n",
        "    except:\n",
        "        print('Całka funckji {} jest nieskończona'.format(i.__name__))\n",
        "        czy_hilbert[i.__name__]=0\n",
        "\n",
        "print(czy_hilbert)\n",
        "\n",
        "if czy_hilbert[f.__name__]==1 and czy_hilbert[g.__name__]==1:\n",
        "  print(\"tu norma\")\n",
        "else:\n",
        "  print(\"{} lub {} nie należy do przestrzeni Hilberta, zatem nie można obliczyć <{},{}>\".format(f.__name__,g.__name__,f.__name__,g.__name__))"
      ],
      "execution_count": 50,
      "outputs": [
        {
          "output_type": "stream",
          "text": [
            "Całka funckji |f|^p dla p=2 jest równa 0.4045507673897055, zatem f należy do przestrzeni Hilberta\n",
            "Norma funckji f jest równa 0.6360430546666677\n",
            "Całka funckji |g|^p dla p=2 jest równa 6.3890560989306495, zatem g należy do przestrzeni Hilberta\n",
            "Norma funckji g jest równa 2.5276582243117143\n",
            "{'f': 1, 'g': 1}\n"
          ],
          "name": "stdout"
        }
      ]
    },
    {
      "cell_type": "code",
      "metadata": {
        "id": "-SfeVyzkLb4g"
      },
      "source": [
        ""
      ],
      "execution_count": null,
      "outputs": []
    }
  ]
}