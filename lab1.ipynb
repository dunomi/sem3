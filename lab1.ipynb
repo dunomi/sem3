{
  "nbformat": 4,
  "nbformat_minor": 0,
  "metadata": {
    "kernelspec": {
      "display_name": "Python 3",
      "language": "python",
      "name": "python3"
    },
    "language_info": {
      "codemirror_mode": {
        "name": "ipython",
        "version": 3
      },
      "file_extension": ".py",
      "mimetype": "text/x-python",
      "name": "python",
      "nbconvert_exporter": "python",
      "pygments_lexer": "ipython3",
      "version": "3.7.7"
    },
    "colab": {
      "name": "lab1.ipynb",
      "provenance": [],
      "include_colab_link": true
    }
  },
  "cells": [
    {
      "cell_type": "markdown",
      "metadata": {
        "id": "view-in-github",
        "colab_type": "text"
      },
      "source": [
        "<a href=\"https://colab.research.google.com/github/dunomi/sem3/blob/main/lab1.ipynb\" target=\"_parent\"><img src=\"https://colab.research.google.com/assets/colab-badge.svg\" alt=\"Open In Colab\"/></a>"
      ]
    },
    {
      "cell_type": "code",
      "metadata": {
        "id": "kVocUpFCy5Eq"
      },
      "source": [
        "import numpy as np\n",
        "import scipy\n",
        "from scipy.integrate import quad"
      ],
      "execution_count": 1,
      "outputs": []
    },
    {
      "cell_type": "code",
      "metadata": {
        "id": "1z3pdoBC68HY",
        "outputId": "bcdab275-631f-4181-f5b3-a94acac4d7cc",
        "colab": {
          "base_uri": "https://localhost:8080/",
          "height": 34
        }
      },
      "source": [
        "abs(complex(0))**2"
      ],
      "execution_count": 3,
      "outputs": [
        {
          "output_type": "execute_result",
          "data": {
            "text/plain": [
              "0.0"
            ]
          },
          "metadata": {
            "tags": []
          },
          "execution_count": 3
        }
      ]
    },
    {
      "cell_type": "code",
      "metadata": {
        "id": "tycPY5H1y5Ew"
      },
      "source": [
        "def f(x):\n",
        "    if 0 <= x <= 1:\n",
        "        wynik = (1/3)**x\n",
        "    else:\n",
        "        wynik = 0\n",
        "    return abs(wynik)**2\n",
        "\n",
        "def g(x):\n",
        "    z = complex(1.,1.)\n",
        "    if 0 <= x <= 1:\n",
        "        wynik = (z)**np.exp(x)\n",
        "    else:\n",
        "        wynik = complex(0)\n",
        "    return abs(wynik)**2    \n",
        "\n",
        "def f2(x):\n",
        "  wynik = ((1/3)**x)*(0<=x<=1)\n",
        "  return abs(wynik)**2\n",
        "\n",
        "def g2(x):\n",
        "    z = complex(1.,1.)\n",
        "    wynik = (z**np.exp(x))*(0<=x<=1)\n",
        "    return abs(wynik)**2   "
      ],
      "execution_count": 4,
      "outputs": []
    },
    {
      "cell_type": "code",
      "metadata": {
        "id": "Ud-CagGzy5Ez",
        "outputId": "2cbbead4-f67b-4201-cf4b-d83b470d420e"
      },
      "source": [
        "\"\"\"\n",
        "calka1 = quad(f,-np.inf,np.inf)\n",
        "\n",
        "print (\"Całka pierwsza równa jest = {}\".format(calka1[0])) if calka1 != np.inf else print (\"Całka pierwsza jest nieskończona\")\n",
        "\n",
        "\n",
        "#Funckcja complex ma problem z liczeniem liczb zespolonych, dlatego \n",
        "#oddzielnie wyliczcone zostaly całki dla czesci urojonej oraz rzeczywistej \n",
        "def complex_quad(func, a, b):\n",
        "    def real_func(x):\n",
        "        return np.real(func(x))\n",
        "    def imag_func(x):\n",
        "        return np.imag(func(x))\n",
        "    real_integral = quad(real_func, a, b)\n",
        "    imag_integral = quad(imag_func, a, b)\n",
        "    return (real_integral[0] + 1j*imag_integral[0], real_integral[1], imag_integral[1])\n",
        "\n",
        "calka2 = complex_quad(g,-np.inf,np.inf)\n",
        "\n",
        "calka2 = quad(g,-np.inf,np.inf)\n",
        "\n",
        "print (\"Całka druga równa jest = {}\".format(calka2[0])) if calka2 != np.inf else print (\"Całka druga jest nieskończona\")\n",
        "\n",
        "\"\"\""
      ],
      "execution_count": null,
      "outputs": [
        {
          "output_type": "execute_result",
          "data": {
            "text/plain": [
              "'\\ncalka1 = quad(f,-np.inf,np.inf)\\n\\nprint (\"Całka pierwsza równa jest = {}\".format(calka1[0])) if calka1 != np.inf else print (\"Całka pierwsza jest nieskończona\")\\n\\n\\n#Funckcja complex ma problem z liczeniem liczb zespolonych, dlatego \\n#oddzielnie wyliczcone zostaly całki dla czesci urojonej oraz rzeczywistej \\ndef complex_quad(func, a, b):\\n    def real_func(x):\\n        return np.real(func(x))\\n    def imag_func(x):\\n        return np.imag(func(x))\\n    real_integral = quad(real_func, a, b)\\n    imag_integral = quad(imag_func, a, b)\\n    return (real_integral[0] + 1j*imag_integral[0], real_integral[1], imag_integral[1])\\n\\ncalka2 = complex_quad(g,-np.inf,np.inf)\\n\\ncalka2 = quad(g,-np.inf,np.inf)\\n\\nprint (\"Całka druga równa jest = {}\".format(calka2[0])) if calka2 != np.inf else print (\"Całka druga jest nieskończona\")\\n\\n'"
            ]
          },
          "metadata": {
            "tags": []
          },
          "execution_count": 54
        }
      ]
    },
    {
      "cell_type": "code",
      "metadata": {
        "id": "KGLfP_V8y5E3",
        "outputId": "c4c689e9-8002-44f2-c569-0e99ff1dfd86"
      },
      "source": [
        "import warnings\n",
        "warnings.filterwarnings(\"error\")\n",
        "\n",
        "for i in [f,g]:\n",
        "    try:\n",
        "        calka3 = quad(i,0,np.inf)\n",
        "        if calka3[0]==np.inf: \n",
        "            print('Całka funckji {} u jest nieskończona'.format(i.__name__))\n",
        "    except:\n",
        "        print('Całka funckji {} jest nieskończona'.format(i.__name__))\n",
        "    print (\"Całka funckji {} równa jest = {}\".format(i.__name__,calka3[0])) if calka3 != np.inf else print ('Całka funckji {} jest nieskończona'.format(i.__name__))"
      ],
      "execution_count": null,
      "outputs": [
        {
          "output_type": "stream",
          "text": [
            "Całka funckji f równa jest = 0.4045507673897055\n",
            "Całka funckji g równa jest = 3.4930513843834445\n"
          ],
          "name": "stdout"
        }
      ]
    }
  ]
}